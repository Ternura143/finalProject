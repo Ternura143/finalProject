{
 "cells": [
  {
   "cell_type": "code",
   "execution_count": 2,
   "metadata": {
    "collapsed": true
   },
   "outputs": [
    {
     "name": "stdout",
     "output_type": "stream",
     "text": [
      "CSV GET!\n"
     ]
    }
   ],
   "source": [
    "import requests\n",
    "\n",
    "url = \"https://api.tokeninsight.com/api/v1/history/coins/bitcoin\"\n",
    "\n",
    "headers = {\n",
    "    \"accept\": \"application/json\",\n",
    "    \"TI_API_KEY\": \"1ecaa5b2605940de8823c875c67aee9c\"\n",
    "}\n",
    "\n",
    "response = requests.get(url, headers=headers)\n",
    "\n",
    "\n",
    "api_url = \"https://api.tokeninsight.com/api/v1/coins/list?limit=50&offset=0\"\n",
    "\n",
    "headers = {\n",
    "    \"accept\": \"application/json\",\n",
    "    \"TI_API_KEY\": \"1ecaa5b2605940de8823c875c67aee9c\"\n",
    "}\n",
    "\n",
    "\n",
    "response = requests.get(api_url, headers=headers)\n",
    "\n",
    "\n",
    "if response.status_code == 200:\n",
    "    coins_data = response.json()\n",
    "\n",
    "\n",
    "import csv\n",
    "\n",
    "# 提取货币名称\n",
    "coin_names = [item['id'] for item in coins_data['data']['items']]\n",
    "\n",
    "# 将货币名称写入CSV文件\n",
    "with open('top_coins.csv', 'w', newline='', encoding='utf-8') as file:\n",
    "    writer = csv.writer(file)\n",
    "    writer.writerow(['Coin Name'])\n",
    "    for name in coin_names:\n",
    "        writer.writerow([name])\n",
    "\n",
    "print(\"CSV GET!\")"
   ]
  },
  {
   "cell_type": "code",
   "execution_count": null,
   "outputs": [],
   "source": [],
   "metadata": {
    "collapsed": false
   }
  }
 ],
 "metadata": {
  "kernelspec": {
   "display_name": "Python 3",
   "language": "python",
   "name": "python3"
  },
  "language_info": {
   "codemirror_mode": {
    "name": "ipython",
    "version": 2
   },
   "file_extension": ".py",
   "mimetype": "text/x-python",
   "name": "python",
   "nbconvert_exporter": "python",
   "pygments_lexer": "ipython2",
   "version": "2.7.6"
  }
 },
 "nbformat": 4,
 "nbformat_minor": 0
}
