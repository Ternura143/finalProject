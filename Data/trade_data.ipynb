{
 "cells": [
  {
   "cell_type": "code",
   "execution_count": 31,
   "metadata": {
    "collapsed": true
   },
   "outputs": [
    {
     "name": "stdout",
     "output_type": "stream",
     "text": [
      "['bitcoin', 'ethereum', 'tether', 'binance-coin', 'solana', 'ripple', 'usd-coin', 'lido-staked-ether', 'cardano', 'avalanche', 'dogecoin', 'tron', 'chainlink', 'polkadot', 'polygon', 'wrapped-bitcoinwbtc', 'internet-computer', 'shiba-inu', 'uniswap', 'daidai', 'bitcoin-cash', 'litecoin', 'the-open-networkton', 'immutable-x', 'ethereum-classic', 'filecoin', 'stacks', 'unus-sed-leo', 'kaspa', 'optimism', 'hedera-hashgraphhbar', 'near-protocol', 'stellar', 'trueusd', 'vechain', 'okb', 'injective-protocol', 'cosmosatom', 'lido-dao-token', 'arbitrum', 'celestia', 'crypto-com-coin', 'the-graph', 'render-network', 'monero', 'aptos', 'makerdao', 'binance-usd', 'rocket-pool-eth', 'sei-network']\n"
     ]
    }
   ],
   "source": [
    "import csv\n",
    "\n",
    "\n",
    "coin_names = []\n",
    "with open('top_coins.csv', 'r') as file:\n",
    "    reader = csv.reader(file)\n",
    "    next(reader)\n",
    "    for row in reader:\n",
    "        coin_names.append(row[0])\n",
    "\n",
    "print(coin_names)"
   ]
  },
  {
   "cell_type": "code",
   "execution_count": 36,
   "outputs": [
    {
     "name": "stdout",
     "output_type": "stream",
     "text": [
      "Data for bitcoin saved to coin_data/bitcoin_data.json\n",
      "Data for ethereum saved to coin_data/ethereum_data.json\n",
      "Data for tether saved to coin_data/tether_data.json\n",
      "Data for binance-coin saved to coin_data/binance-coin_data.json\n",
      "Data for solana saved to coin_data/solana_data.json\n",
      "Data for ripple saved to coin_data/ripple_data.json\n",
      "Data for usd-coin saved to coin_data/usd-coin_data.json\n",
      "Data for lido-staked-ether saved to coin_data/lido-staked-ether_data.json\n",
      "Data for cardano saved to coin_data/cardano_data.json\n",
      "Data for avalanche saved to coin_data/avalanche_data.json\n",
      "Data for dogecoin saved to coin_data/dogecoin_data.json\n",
      "Data for tron saved to coin_data/tron_data.json\n",
      "Data for chainlink saved to coin_data/chainlink_data.json\n",
      "Data for polkadot saved to coin_data/polkadot_data.json\n",
      "Data for polygon saved to coin_data/polygon_data.json\n",
      "Data for wrapped-bitcoinwbtc saved to coin_data/wrapped-bitcoinwbtc_data.json\n",
      "Data for internet-computer saved to coin_data/internet-computer_data.json\n",
      "Data for shiba-inu saved to coin_data/shiba-inu_data.json\n",
      "Data for uniswap saved to coin_data/uniswap_data.json\n",
      "Data for daidai saved to coin_data/daidai_data.json\n",
      "Data for bitcoin-cash saved to coin_data/bitcoin-cash_data.json\n",
      "Data for litecoin saved to coin_data/litecoin_data.json\n",
      "Data for the-open-networkton saved to coin_data/the-open-networkton_data.json\n",
      "Data for immutable-x saved to coin_data/immutable-x_data.json\n",
      "Data for ethereum-classic saved to coin_data/ethereum-classic_data.json\n",
      "Data for filecoin saved to coin_data/filecoin_data.json\n",
      "Data for stacks saved to coin_data/stacks_data.json\n",
      "Data for unus-sed-leo saved to coin_data/unus-sed-leo_data.json\n",
      "Data for kaspa saved to coin_data/kaspa_data.json\n",
      "Data for optimism saved to coin_data/optimism_data.json\n",
      "Data for hedera-hashgraphhbar saved to coin_data/hedera-hashgraphhbar_data.json\n",
      "Data for near-protocol saved to coin_data/near-protocol_data.json\n",
      "Data for stellar saved to coin_data/stellar_data.json\n",
      "Data for trueusd saved to coin_data/trueusd_data.json\n",
      "Data for vechain saved to coin_data/vechain_data.json\n",
      "Data for okb saved to coin_data/okb_data.json\n",
      "Data for injective-protocol saved to coin_data/injective-protocol_data.json\n",
      "Data for cosmosatom saved to coin_data/cosmosatom_data.json\n",
      "Data for lido-dao-token saved to coin_data/lido-dao-token_data.json\n",
      "Data for arbitrum saved to coin_data/arbitrum_data.json\n",
      "Data for celestia saved to coin_data/celestia_data.json\n",
      "Data for crypto-com-coin saved to coin_data/crypto-com-coin_data.json\n",
      "Data for the-graph saved to coin_data/the-graph_data.json\n",
      "Data for render-network saved to coin_data/render-network_data.json\n",
      "Data for monero saved to coin_data/monero_data.json\n",
      "Data for aptos saved to coin_data/aptos_data.json\n",
      "Data for makerdao saved to coin_data/makerdao_data.json\n",
      "Data for binance-usd saved to coin_data/binance-usd_data.json\n",
      "Data for rocket-pool-eth saved to coin_data/rocket-pool-eth_data.json\n",
      "Data for sei-network saved to coin_data/sei-network_data.json\n"
     ]
    }
   ],
   "source": [
    "import os\n",
    "import requests\n",
    "import json\n",
    "\n",
    "coin_data = {}\n",
    "\n",
    "for coin_id in coin_names:\n",
    "\n",
    "    api_url = f\"https://api.tokeninsight.com/api/v1/history/coins/{coin_id}?length=1200&interval=hour\"\n",
    "\n",
    "    headers = {\n",
    "    \"accept\": \"application/json\",\n",
    "    \"TI_API_KEY\": \"1ecaa5b2605940de8823c875c67aee9c\"\n",
    "    }\n",
    "\n",
    "    response = requests.get(api_url, headers=headers)\n",
    "    if response.status_code == 200:\n",
    "        data = response.json()\n",
    "        # 处理和保存数据\n",
    "        coin_data[coin_id] = data\n",
    "        # coin_data.append(data)\n",
    "        # print(data)\n",
    "    else:\n",
    "        print(f\"Failed to retrieve data for {coin_id}\")\n",
    "\n",
    "\n",
    "    output_dir = 'coin_data'\n",
    "    os.makedirs(output_dir, exist_ok=True)\n",
    "    output_file = os.path.join(output_dir, f\"{coin_id}_data.json\")\n",
    "    with open(output_file, 'w') as json_file:\n",
    "        json.dump(coin_data, json_file, indent=4)\n",
    "\n",
    "    print(f\"Data for {coin_id} saved to {output_file}\")\n"
   ],
   "metadata": {
    "collapsed": false
   }
  },
  {
   "cell_type": "code",
   "execution_count": 23,
   "outputs": [
    {
     "name": "stdout",
     "output_type": "stream",
     "text": [
      "2024-02-24 11:00:00\n"
     ]
    }
   ],
   "source": [
    "from datetime import datetime\n",
    "\n",
    "# Unix时间戳（毫秒）\n",
    "timestamp_ms = 1708772400000\n",
    "\n",
    "\n",
    "# 转换为秒\n",
    "timestamp_s = timestamp_ms / 1000\n",
    "\n",
    "# 转换为datetime对象\n",
    "dt = datetime.utcfromtimestamp(timestamp_s)\n",
    "\n",
    "# 打印格式化的日期和时间\n",
    "print(dt.strftime('%Y-%m-%d %H:%M:%S'))\n"
   ],
   "metadata": {
    "collapsed": false
   }
  },
  {
   "cell_type": "code",
   "execution_count": 24,
   "outputs": [
    {
     "name": "stdout",
     "output_type": "stream",
     "text": [
      "{\"status\":{\"code\":400,\"message\":\"id not exist\",\"timestamp\":1708839350808}}\n"
     ]
    }
   ],
   "source": [
    "import requests\n",
    "\n",
    "url = \"https://api.tokeninsight.com/api/v1/history/coins/id\"\n",
    "\n",
    "headers = {\n",
    "    \"accept\": \"application/json\",\n",
    "    \"TI_API_KEY\": \"1ecaa5b2605940de8823c875c67aee9c\"\n",
    "}\n",
    "\n",
    "response = requests.get(url, headers=headers)\n",
    "\n",
    "print(response.text)"
   ],
   "metadata": {
    "collapsed": false
   }
  }
 ],
 "metadata": {
  "kernelspec": {
   "display_name": "Python 3",
   "language": "python",
   "name": "python3"
  },
  "language_info": {
   "codemirror_mode": {
    "name": "ipython",
    "version": 2
   },
   "file_extension": ".py",
   "mimetype": "text/x-python",
   "name": "python",
   "nbconvert_exporter": "python",
   "pygments_lexer": "ipython2",
   "version": "2.7.6"
  }
 },
 "nbformat": 4,
 "nbformat_minor": 0
}
